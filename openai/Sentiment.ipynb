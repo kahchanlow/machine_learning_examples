{
  "cells": [
    {
      "cell_type": "code",
      "execution_count": 1,
      "id": "7496dbd0",
      "metadata": {
      },
      "outputs": [

      ],
      "source": [
        "from openai import OpenAI"
      ]
    },
    {
      "cell_type": "code",
      "execution_count": 2,
      "id": "7c3cba24",
      "metadata": {
      },
      "outputs": [

      ],
      "source": [
        "client = OpenAI()"
      ]
    },
    {
      "cell_type": "code",
      "execution_count": 3,
      "id": "4e76f565",
      "metadata": {
      },
      "outputs": [

      ],
      "source": [
        "system_prompt = \"\"\"You are a helpful assistant with \\\n",
        "expert-level emotional intelligence. You reply only \\\n",
        "with 1, 0, or -1, with 1 meaning positive sentiment, \\\n",
        "-1 meaning negative sentiment, and 0 meaning neutral.\n",
        "\"\"\""
      ]
    },
    {
      "cell_type": "code",
      "execution_count": 4,
      "id": "1d840239",
      "metadata": {
      },
      "outputs": [

      ],
      "source": [
        "def complete(user_prompt):\n",
        "    completion = client.chat.completions.create(\n",
        "        model='gpt-3.5-turbo',\n",
        "        messages=[\n",
        "            {\"role\": \"system\", \"content\": system_prompt},\n",
        "            {\"role\": \"user\", \"content\": user_prompt},\n",
        "        ],\n",
        "        temperature=0,\n",
        "        max_tokens=3, # don't limit output length!\n",
        "    )\n",
        "    return completion"
      ]
    },
    {
      "cell_type": "code",
      "execution_count": 5,
      "id": "c6abe304",
      "metadata": {
      },
      "outputs": [

      ],
      "source": [
        "def get_sentiment(text):\n",
        "    user_prompt = f\"\"\"Please assign a sentiment value \\\n",
        "    for the following terxt:\n",
        "    \n",
        "    ```\n",
        "    {text}\n",
        "    ```\n",
        "    \"\"\"\n",
        "    \n",
        "    completion = complete(user_prompt)\n",
        "    return completion.choices[0].message.content"
      ]
    },
    {
      "cell_type": "code",
      "execution_count": 6,
      "id": "785460a5",
      "metadata": {
      },
      "outputs": [

      ],
      "source": [
        "# X-Men '97\n",
        "review = \"\"\"This isn’t an X-Men cartoon geared to kids \\\n",
        "today, but one that reproduces what thirtysomethings \\\n",
        "remember, the way they remember it.\"\"\""
      ]
    },
    {
      "cell_type": "code",
      "execution_count": 7,
      "id": "16b6d1db",
      "metadata": {
      },
      "outputs": [
        {
          "data": {
            "text/plain": [
              "'1'"
            ]
          },
          "execution_count": 7,
          "metadata": {
          },
          "output_type": "execute_result"
        }
      ],
      "source": [
        "get_sentiment(review)"
      ]
    },
    {
      "cell_type": "code",
      "execution_count": 8,
      "id": "9d950492",
      "metadata": {
      },
      "outputs": [

      ],
      "source": [
        "# Avatar: The Last Airbender (Netflix)\n",
        "review = \"\"\"Avatar: The Last Airbender is much like Aang \\\n",
        "himself, unsure of what it is supposed to be and carrying \\\n",
        "the unavoidable weight of a burdensome legacy.\"\"\""
      ]
    },
    {
      "cell_type": "code",
      "execution_count": 9,
      "id": "3eca24a9",
      "metadata": {
      },
      "outputs": [
        {
          "data": {
            "text/plain": [
              "'0'"
            ]
          },
          "execution_count": 9,
          "metadata": {
          },
          "output_type": "execute_result"
        }
      ],
      "source": [
        "get_sentiment(review)"
      ]
    },
    {
      "cell_type": "code",
      "execution_count": 10,
      "id": "746e0fc8",
      "metadata": {
      },
      "outputs": [

      ],
      "source": [
        "system_prompt = \"\"\"You are a helpful assistant and an \\\n",
        "expert-level stock trader. You reply only \\\n",
        "with 1, 0, or -1, with 1 meaning 'good investment', \\\n",
        "-1 meaning 'poor investment', and 0 meaning neutral.\n",
        "\"\"\""
      ]
    },
    {
      "cell_type": "code",
      "execution_count": 11,
      "id": "f85965e1",
      "metadata": {
      },
      "outputs": [

      ],
      "source": [
        "# https://www.macrumors.com/2024/03/20/apple-facing-imminent-u-s-antitrust-lawsuit/\n",
        "# In practice, you could pull articles automatically\n",
        "# via an API, and completely automate trading!\n",
        "\n",
        "article = \"\"\"The United States Justice Department is \\\n",
        "preparing to sue Apple for violating antitrust law \\\n",
        "as soon as Thursday, reports Bloomberg. The lawsuit \\\n",
        "will be the culmination of an investigation that \\\n",
        "initially started in 2019 as an antitrust review of \\\n",
        "major technology companies. U.S. regulators have \\\n",
        "already sued Google, Meta, and Amazon.\n",
        "\"\"\""
      ]
    },
    {
      "cell_type": "code",
      "execution_count": 12,
      "id": "c928eb1f",
      "metadata": {
      },
      "outputs": [

      ],
      "source": [
        "def get_trade(text):\n",
        "    user_prompt = f\"\"\"Please tell me whether this is \\\n",
        "    a good investment, poor investment, or neither, \\\n",
        "    based on the following article about the company:\n",
        "    \n",
        "    ```\n",
        "    {text}\n",
        "    ```\n",
        "    \"\"\"\n",
        "    \n",
        "    completion = complete(user_prompt)\n",
        "    return completion.choices[0].message.content"
      ]
    },
    {
      "cell_type": "code",
      "execution_count": 13,
      "id": "a6cb3c62",
      "metadata": {
      },
      "outputs": [
        {
          "data": {
            "text/plain": [
              "'-1'"
            ]
          },
          "execution_count": 13,
          "metadata": {
          },
          "output_type": "execute_result"
        }
      ],
      "source": [
        "get_trade(article)"
      ]
    },
    {
      "cell_type": "code",
      "execution_count": null,
      "id": "5dfe4f33",
      "metadata": {
      },
      "outputs": [

      ],
      "source": [

      ]
    },
    {
      "cell_type": "code",
      "source": [

      ],
      "metadata": {
        "id": "S0acXBWCxiJL"
      },
      "execution_count": null,
      "outputs": [

      ]
    },
    {
      "cell_type": "code",
      "source": [

      ],
      "metadata": {
        "id": "oaG3igwFxiQU"
      },
      "execution_count": null,
      "outputs": [

      ]
    },
    {
      "cell_type": "code",
      "source": [

      ],
      "metadata": {
        "id": "PzQJleyoxiWi"
      },
      "execution_count": null,
      "outputs": [

      ]
    },
    {
      "cell_type": "markdown",
      "source": [
        "![](https://deeplearningcourses.com/notebooks_v3_pxl?sc=eJQTuAHC1iIuxyNWhKpeiw&n=Sentiment)"
      ],
      "metadata": {
        "id": "PFJd4PmsxjKb"
      }
    }
  ],
  "metadata": {
    "kernelspec": {
      "display_name": "Python 3 (ipykernel)",
      "language": "python",
      "name": "python3"
    },
    "language_info": {
      "codemirror_mode": {
        "name": "ipython",
        "version": 3
      },
      "file_extension": ".py",
      "mimetype": "text/x-python",
      "name": "python",
      "nbconvert_exporter": "python",
      "pygments_lexer": "ipython3",
      "version": "3.10.12"
    },
    "sc": "eJQTuAHC1iIuxyNWhKpeiw"
  },
  "nbformat": 4,
  "nbformat_minor": 5
}