{
  "cells": [
    {
      "cell_type": "code",
      "execution_count": 1,
      "id": "2dde921f",
      "metadata": {
      },
      "outputs": [

      ],
      "source": [
        "from openai import OpenAI"
      ]
    },
    {
      "cell_type": "code",
      "execution_count": 2,
      "id": "29b3de28",
      "metadata": {
      },
      "outputs": [

      ],
      "source": [
        "client = OpenAI()"
      ]
    },
    {
      "cell_type": "code",
      "execution_count": 9,
      "id": "24f4af20",
      "metadata": {
      },
      "outputs": [

      ],
      "source": [
        "def complete(user_prompt):\n",
        "    completion = client.chat.completions.create(\n",
        "        model='gpt-3.5-turbo',\n",
        "        messages=[\n",
        "            {\"role\": \"user\", \"content\": user_prompt},\n",
        "        ],\n",
        "        temperature=0,\n",
        "        max_tokens=300,\n",
        "    )\n",
        "    return completion"
      ]
    },
    {
      "cell_type": "code",
      "execution_count": 4,
      "id": "8a7d1fc4",
      "metadata": {
      },
      "outputs": [

      ],
      "source": [
        "stemcells = \"\"\"What are stem cells?\n",
        "\n",
        "Stem cells are the body's raw materials — cells \\\n",
        "from which all other cells with specialized functions \\\n",
        "are generated. Under the right conditions in the body \\\n",
        "or a laboratory, stem cells divide to form more cells \\\n",
        "called daughter cells.\n",
        "\n",
        "These daughter cells become either new stem cells or \\\n",
        "specialized cells (differentiation) with a more specific \\\n",
        "function, such as blood cells, brain cells, heart muscle \\\n",
        "cells or bone cells. No other cell in the body has the \\\n",
        "natural ability to generate new cell types.\n",
        "\n",
        "Why is there such an interest in stem cells?\n",
        "Researchers hope stem cell studies can help to:\n",
        "\n",
        "Increase understanding of how diseases occur. By watching \\\n",
        "stem cells mature into cells in bones, heart muscle, nerves, \\\n",
        "and other organs and tissue, researchers may better \\\n",
        "understand how diseases and conditions develop.\n",
        "Generate healthy cells to replace cells affected by disease \\\n",
        "(regenerative medicine). Stem cells can be guided into \\\n",
        "becoming specific cells that can be used in people to \\\n",
        "regenerate and repair tissues that have been damaged or \\\n",
        "affected by disease.\n",
        "\n",
        "People who might benefit from stem cell therapies include \\\n",
        "those with spinal cord injuries, type 1 diabetes, Parkinson's \\\n",
        "disease, amyotrophic lateral sclerosis, Alzheimer's disease, \\\n",
        "heart disease, stroke, burns, cancer and osteoarthritis.\n",
        "\n",
        "Stem cells may have the potential to be grown to become new \\\n",
        "tissue for use in transplant and regenerative medicine. \\\n",
        "Researchers continue to advance the knowledge on stem cells \\\n",
        "and their applications in transplant and regenerative medicine.\n",
        "\n",
        "Test new drugs for safety and effectiveness. Before using \\\n",
        "investigational drugs in people, researchers can use some \\\n",
        "types of stem cells to test the drugs for safety and quality. \\\n",
        "This type of testing will most likely first have a direct \\\n",
        "impact on drug development for cardiac toxicity testing.\n",
        "\n",
        "New areas of study include the effectiveness of using human \\\n",
        "stem cells that have been programmed into tissue-specific \\\n",
        "cells to test new drugs. For the testing of new drugs to \\\n",
        "be accurate, the cells must be programmed to acquire \\\n",
        "properties of the type of cells targeted by the drug. \\\n",
        "Techniques to program cells into specific cells are under study.\n",
        "\n",
        "For instance, nerve cells could be generated to test a \\\n",
        "new drug for a nerve disease. Tests could show whether \\\n",
        "the new drug had any effect on the cells and whether the \\\n",
        "cells were harmed.\n",
        "\"\"\""
      ]
    },
    {
      "cell_type": "code",
      "execution_count": 5,
      "id": "ad3b8f3f",
      "metadata": {
      },
      "outputs": [

      ],
      "source": [
        "prompt = f\"\"\"Please summarize the following article:\n",
        "\n",
        "```\n",
        "{stemcells}\n",
        "```\n",
        "\"\"\""
      ]
    },
    {
      "cell_type": "code",
      "execution_count": 10,
      "id": "f9aba9cb",
      "metadata": {
      },
      "outputs": [

      ],
      "source": [
        "completion = complete(prompt)"
      ]
    },
    {
      "cell_type": "code",
      "execution_count": 11,
      "id": "57c5e2f9",
      "metadata": {
      },
      "outputs": [

      ],
      "source": [
        "def print_response(completion):\n",
        "    content = completion.choices[0].message.content\n",
        "    print(content)"
      ]
    },
    {
      "cell_type": "code",
      "execution_count": 12,
      "id": "004495b1",
      "metadata": {
      },
      "outputs": [
        {
          "name": "stdout",
          "output_type": "stream",
          "text": [
            "Stem cells are the body's raw materials that can divide to form specialized cells with specific functions. Researchers are interested in stem cells because they can help increase understanding of diseases, generate healthy cells for regenerative medicine, and test new drugs for safety and effectiveness. Stem cells have the potential to be used in treating a variety of conditions such as spinal cord injuries, diabetes, Parkinson's disease, and heart disease. Researchers are also studying the effectiveness of using human stem cells to test new drugs by programming them into tissue-specific cells.\n"
          ]
        }
      ],
      "source": [
        "print_response(completion)"
      ]
    },
    {
      "cell_type": "code",
      "execution_count": 13,
      "id": "5a95c744",
      "metadata": {
      },
      "outputs": [

      ],
      "source": [
        "prompt = f\"\"\"Please summarize the following article. \\\n",
        "Use a maximum of 3 sentences:\n",
        "\n",
        "```\n",
        "{stemcells}\n",
        "```\n",
        "\"\"\""
      ]
    },
    {
      "cell_type": "code",
      "execution_count": 14,
      "id": "d32b8ff9",
      "metadata": {
      },
      "outputs": [

      ],
      "source": [
        "completion = complete(prompt)"
      ]
    },
    {
      "cell_type": "code",
      "execution_count": 15,
      "id": "2314cd1d",
      "metadata": {
      },
      "outputs": [
        {
          "name": "stdout",
          "output_type": "stream",
          "text": [
            "Stem cells are the body's raw materials that can develop into specialized cells, offering potential for regenerative medicine, drug testing, and understanding disease development. Researchers are interested in using stem cells to generate healthy cells for those with various conditions such as spinal cord injuries, diabetes, and Alzheimer's disease. Stem cells have the potential to be grown into new tissue for transplants and regenerative medicine, as well as being used to test new drugs for safety and effectiveness.\n"
          ]
        }
      ],
      "source": [
        "print_response(completion)"
      ]
    },
    {
      "cell_type": "code",
      "execution_count": 16,
      "id": "77b21bcb",
      "metadata": {
      },
      "outputs": [

      ],
      "source": [
        "prompt = f\"\"\"Please ELI5 the following article:\n",
        "\n",
        "```\n",
        "{stemcells}\n",
        "```\n",
        "\"\"\""
      ]
    },
    {
      "cell_type": "code",
      "execution_count": 17,
      "id": "d2920b98",
      "metadata": {
      },
      "outputs": [

      ],
      "source": [
        "completion = complete(prompt)"
      ]
    },
    {
      "cell_type": "code",
      "execution_count": 18,
      "id": "273e9f13",
      "metadata": {
      },
      "outputs": [
        {
          "name": "stdout",
          "output_type": "stream",
          "text": [
            "Stem cells are special cells in our bodies that can turn into different types of cells, like blood cells, brain cells, or bone cells. Scientists are very interested in studying stem cells because they can help us understand how diseases develop, create new healthy cells to replace damaged ones, and test new drugs for safety and effectiveness.\n",
            "\n",
            "Stem cell research could potentially help people with a variety of conditions, such as spinal cord injuries, diabetes, Parkinson's disease, and heart disease. By studying stem cells, researchers hope to find new ways to treat these diseases and improve people's health.\n",
            "\n",
            "One exciting possibility is using stem cells to grow new tissue for transplants and regenerative medicine. This could help people who need new organs or tissues due to disease or injury.\n",
            "\n",
            "Additionally, stem cells can be used to test new drugs before they are given to people. By growing specific types of cells in the lab and exposing them to new drugs, researchers can see how the drugs affect the cells and whether they are safe to use.\n",
            "\n",
            "Overall, stem cell research has the potential to revolutionize medicine by providing new treatments for a wide range of diseases and conditions. Scientists are constantly working to learn more about stem cells and how they can be used to improve human health.\n"
          ]
        }
      ],
      "source": [
        "print_response(completion)"
      ]
    },
    {
      "cell_type": "code",
      "execution_count": 19,
      "id": "4fedfef2",
      "metadata": {
      },
      "outputs": [
        {
          "name": "stdout",
          "output_type": "stream",
          "text": [
            "Stem cells are special cells in our bodies that can turn into different types of cells, like blood cells, brain cells, or bone cells. Scientists are very interested in studying stem cells because they can help us understand how diseases develop, create healthy cells to replace damaged ones, and test new drugs for safety and effectiveness. Stem cells have the potential to be used in treatments for a variety of diseases like spinal cord injuries, diabetes, and Alzheimer's. Researchers are also looking into programming stem cells to test new drugs on specific types of cells, like nerve cells for nerve diseases.\n"
          ]
        }
      ],
      "source": [
        "prompt = f\"\"\"Please ELI5 (explain like I'm 5) the following article:\n",
        "\n",
        "```\n",
        "{stemcells}\n",
        "```\n",
        "\"\"\"\n",
        "completion = complete(prompt)\n",
        "print_response(completion)"
      ]
    },
    {
      "cell_type": "code",
      "execution_count": 20,
      "id": "78496979",
      "metadata": {
      },
      "outputs": [
        {
          "name": "stdout",
          "output_type": "stream",
          "text": [
            "Airplanes work by using the principles of lift, thrust, drag, and weight. \n",
            "\n",
            "1. Lift: Airplanes have wings that are shaped in a way that creates lift when air flows over them. This lift helps the airplane stay in the air.\n",
            "\n",
            "2. Thrust: Airplanes have engines that provide thrust, which is the force that moves the airplane forward. This thrust helps the airplane move through the air.\n",
            "\n",
            "3. Drag: Drag is the force that resists the motion of the airplane through the air. Airplanes are designed to minimize drag to make flying more efficient.\n",
            "\n",
            "4. Weight: Weight is the force of gravity pulling the airplane down towards the ground. The lift generated by the wings counteracts the weight of the airplane, allowing it to stay in the air.\n",
            "\n",
            "By balancing these forces, airplanes are able to fly through the air and carry passengers and cargo to their destinations.\n"
          ]
        }
      ],
      "source": [
        "prompt = \"Please ELI5 (explain like I'm 5) how airplanes work.\"\n",
        "completion = complete(prompt)\n",
        "print_response(completion)"
      ]
    },
    {
      "cell_type": "code",
      "execution_count": null,
      "id": "d40973c9",
      "metadata": {
      },
      "outputs": [

      ],
      "source": [

      ]
    },
    {
      "cell_type": "code",
      "source": [

      ],
      "metadata": {
        "id": "S0acXBWCxiJL"
      },
      "execution_count": null,
      "outputs": [

      ]
    },
    {
      "cell_type": "code",
      "source": [

      ],
      "metadata": {
        "id": "oaG3igwFxiQU"
      },
      "execution_count": null,
      "outputs": [

      ]
    },
    {
      "cell_type": "code",
      "source": [

      ],
      "metadata": {
        "id": "PzQJleyoxiWi"
      },
      "execution_count": null,
      "outputs": [

      ]
    },
    {
      "cell_type": "markdown",
      "source": [
        "![](https://deeplearningcourses.com/notebooks_v3_pxl?sc=eJQTuAHC1iIuxyNWhKpeiw&n=Summarize)"
      ],
      "metadata": {
        "id": "PFJd4PmsxjKb"
      }
    }
  ],
  "metadata": {
    "kernelspec": {
      "display_name": "Python 3 (ipykernel)",
      "language": "python",
      "name": "python3"
    },
    "language_info": {
      "codemirror_mode": {
        "name": "ipython",
        "version": 3
      },
      "file_extension": ".py",
      "mimetype": "text/x-python",
      "name": "python",
      "nbconvert_exporter": "python",
      "pygments_lexer": "ipython3",
      "version": "3.10.12"
    },
    "sc": "eJQTuAHC1iIuxyNWhKpeiw"
  },
  "nbformat": 4,
  "nbformat_minor": 5
}