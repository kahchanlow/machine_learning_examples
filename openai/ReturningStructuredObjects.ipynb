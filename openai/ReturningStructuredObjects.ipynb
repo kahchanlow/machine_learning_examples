{
  "cells": [
    {
      "cell_type": "code",
      "execution_count": 1,
      "id": "5d7c4913",
      "metadata": {
      },
      "outputs": [

      ],
      "source": [
        "# Why would you want to return a JSON object?\n",
        "# Because you can do programming with it!\n",
        "\n",
        "from openai import OpenAI"
      ]
    },
    {
      "cell_type": "code",
      "execution_count": 2,
      "id": "53dac25e",
      "metadata": {
      },
      "outputs": [

      ],
      "source": [
        "client = OpenAI()"
      ]
    },
    {
      "cell_type": "code",
      "execution_count": 3,
      "id": "86716e02",
      "metadata": {
      },
      "outputs": [

      ],
      "source": [
        "system_prompt = \"You are an assistant that returns only JSON \" +\\\n",
        "    \"objects with the requested information.\""
      ]
    },
    {
      "cell_type": "code",
      "execution_count": 29,
      "id": "325cfcf9",
      "metadata": {
      },
      "outputs": [

      ],
      "source": [
        "def complete(user_prompt):\n",
        "    completion = client.chat.completions.create(\n",
        "        model='gpt-3.5-turbo',\n",
        "        messages=[\n",
        "            {\"role\": \"system\", \"content\": system_prompt},\n",
        "            {\"role\": \"user\", \"content\": user_prompt},\n",
        "        ],\n",
        "        temperature=0,\n",
        "        max_tokens=400,\n",
        "    )\n",
        "    return completion"
      ]
    },
    {
      "cell_type": "code",
      "execution_count": 5,
      "id": "65137945",
      "metadata": {
      },
      "outputs": [

      ],
      "source": [
        "prompt = \"Please return a JSON object about Albert Einstein. \" + \\\n",
        "    \"Include full name, birth date, date of death (if applicable), \" +\\\n",
        "    \"and list of accomplishments.\""
      ]
    },
    {
      "cell_type": "code",
      "execution_count": 7,
      "id": "23ed890f",
      "metadata": {
      },
      "outputs": [

      ],
      "source": [
        "completion = complete(prompt)"
      ]
    },
    {
      "cell_type": "code",
      "execution_count": 8,
      "id": "f80610cb",
      "metadata": {
      },
      "outputs": [
        {
          "data": {
            "text/plain": [
              "ChatCompletion(id='chatcmpl-94ZRadf99z8OrXaxy7O7oAiHDSNX6', choices=[Choice(finish_reason='stop', index=0, logprobs=None, message=ChatCompletionMessage(content='{\\n    \"full_name\": \"Albert Einstein\",\\n    \"birth_date\": \"March 14, 1879\",\\n    \"date_of_death\": \"April 18, 1955\",\\n    \"accomplishments\": [\\n        \"Developed the theory of relativity\",\\n        \"Made significant contributions to quantum mechanics\",\\n        \"Received the Nobel Prize in Physics in 1921\",\\n        \"Published over 300 scientific papers\"\\n    ]\\n}', role='assistant', function_call=None, tool_calls=None))], created=1710876586, model='gpt-3.5-turbo-0125', object='chat.completion', system_fingerprint='fp_4f2ebda25a', usage=CompletionUsage(completion_tokens=90, prompt_tokens=53, total_tokens=143))"
            ]
          },
          "execution_count": 8,
          "metadata": {
          },
          "output_type": "execute_result"
        }
      ],
      "source": [
        "completion"
      ]
    },
    {
      "cell_type": "code",
      "execution_count": 9,
      "id": "54506fd1",
      "metadata": {
      },
      "outputs": [

      ],
      "source": [
        "def get_response(completion):\n",
        "    content = completion.choices[0].message.content\n",
        "    return content"
      ]
    },
    {
      "cell_type": "code",
      "execution_count": 10,
      "id": "0e66948f",
      "metadata": {
      },
      "outputs": [
        {
          "name": "stdout",
          "output_type": "stream",
          "text": [
            "{\n",
            "    \"full_name\": \"Albert Einstein\",\n",
            "    \"birth_date\": \"March 14, 1879\",\n",
            "    \"date_of_death\": \"April 18, 1955\",\n",
            "    \"accomplishments\": [\n",
            "        \"Developed the theory of relativity\",\n",
            "        \"Made significant contributions to quantum mechanics\",\n",
            "        \"Received the Nobel Prize in Physics in 1921\",\n",
            "        \"Published over 300 scientific papers\"\n",
            "    ]\n",
            "}\n"
          ]
        }
      ],
      "source": [
        "print(get_response(completion))"
      ]
    },
    {
      "cell_type": "code",
      "execution_count": 11,
      "id": "e991ed80",
      "metadata": {
      },
      "outputs": [

      ],
      "source": [
        "import json"
      ]
    },
    {
      "cell_type": "code",
      "execution_count": 12,
      "id": "368a8c4e",
      "metadata": {
      },
      "outputs": [

      ],
      "source": [
        "j = json.loads(get_response(completion))"
      ]
    },
    {
      "cell_type": "code",
      "execution_count": 13,
      "id": "b70cc956",
      "metadata": {
      },
      "outputs": [
        {
          "data": {
            "text/plain": [
              "{'full_name': 'Albert Einstein',\n",
              " 'birth_date': 'March 14, 1879',\n",
              " 'date_of_death': 'April 18, 1955',\n",
              " 'accomplishments': ['Developed the theory of relativity',\n",
              "  'Made significant contributions to quantum mechanics',\n",
              "  'Received the Nobel Prize in Physics in 1921',\n",
              "  'Published over 300 scientific papers']}"
            ]
          },
          "execution_count": 13,
          "metadata": {
          },
          "output_type": "execute_result"
        }
      ],
      "source": [
        "j"
      ]
    },
    {
      "cell_type": "code",
      "execution_count": 14,
      "id": "8c7973aa",
      "metadata": {
      },
      "outputs": [

      ],
      "source": [
        "# Turn it into a function that will tell us about anyone!\n",
        "def get_person(name):\n",
        "    prompt = f\"Please return a JSON object about {name}. \" +\\\n",
        "    \"Include full name, birth date, date of death (if applicable), \" +\\\n",
        "    \"and list of accomplishments.\"\n",
        "    \n",
        "    completion = complete(prompt)\n",
        "    \n",
        "    # we could just print the output here, but let's use this\n",
        "    # to confirm it's an actual JSON\n",
        "    j = json.loads(get_response(completion))\n",
        "    return j"
      ]
    },
    {
      "cell_type": "code",
      "execution_count": 15,
      "id": "bdf2545d",
      "metadata": {
      },
      "outputs": [

      ],
      "source": [
        "j = get_person(\"Steve Jobs\")"
      ]
    },
    {
      "cell_type": "code",
      "execution_count": 16,
      "id": "d2851ad3",
      "metadata": {
      },
      "outputs": [
        {
          "name": "stdout",
          "output_type": "stream",
          "text": [
            "{'full_name': 'Steve Jobs', 'birth_date': 'February 24, 1955', 'date_of_death': 'October 5, 2011', 'accomplishments': ['Co-founder of Apple Inc.', 'Pioneer of the personal computer revolution', 'Creator of the iPod, iPhone, and iPad', 'Visionary leader in the tech industry']}\n"
          ]
        }
      ],
      "source": [
        "print(j)"
      ]
    },
    {
      "cell_type": "code",
      "execution_count": 17,
      "id": "9f621a10",
      "metadata": {
      },
      "outputs": [

      ],
      "source": [
        "from pprint import pprint"
      ]
    },
    {
      "cell_type": "code",
      "execution_count": 18,
      "id": "60fdea30",
      "metadata": {
      },
      "outputs": [
        {
          "name": "stdout",
          "output_type": "stream",
          "text": [
            "{'accomplishments': ['Co-founder of Apple Inc.',\n",
            "                     'Pioneer of the personal computer revolution',\n",
            "                     'Creator of the iPod, iPhone, and iPad',\n",
            "                     'Visionary leader in the tech industry'],\n",
            " 'birth_date': 'February 24, 1955',\n",
            " 'date_of_death': 'October 5, 2011',\n",
            " 'full_name': 'Steve Jobs'}\n"
          ]
        }
      ],
      "source": [
        "pprint(j)"
      ]
    },
    {
      "cell_type": "code",
      "execution_count": 19,
      "id": "cdaf220b",
      "metadata": {
      },
      "outputs": [

      ],
      "source": [
        "j = get_person(\"Bill Gates\")"
      ]
    },
    {
      "cell_type": "code",
      "execution_count": 20,
      "id": "cfe0ca80",
      "metadata": {
      },
      "outputs": [
        {
          "name": "stdout",
          "output_type": "stream",
          "text": [
            "{'accomplishments': ['Co-founder of Microsoft Corporation',\n",
            "                     'One of the wealthiest individuals in the world',\n",
            "                     'Philanthropist through the Bill & Melinda Gates '\n",
            "                     'Foundation'],\n",
            " 'birth_date': 'October 28, 1955',\n",
            " 'date_of_death': None,\n",
            " 'full_name': 'Bill Gates'}\n"
          ]
        }
      ],
      "source": [
        "pprint(j)"
      ]
    },
    {
      "cell_type": "code",
      "execution_count": 21,
      "id": "33f8116b",
      "metadata": {
      },
      "outputs": [

      ],
      "source": [
        "# In the \"real-world\", you'll likely want to derive your JSON\n",
        "# from an existing unstructured document.\n",
        "\n",
        "report = '''CUPERTINO, CALIFORNIA Apple today announced financial \\\n",
        "results for its fiscal 2023 fourth quarter ended September 30, 2023. \\\n",
        "The Company posted quarterly revenue of $89.5 billion, down 1 percent \\\n",
        "year over year, and quarterly earnings per diluted share of $1.46, \\\n",
        "up 13 percent year over year. \\\n",
        "\n",
        "“Today Apple is pleased to report a September quarter revenue record for \\\n",
        "iPhone and an all-time revenue record in Services,” said Tim Cook, \\\n",
        "Apple’s CEO. “We now have our strongest lineup of products ever heading \\\n",
        "into the holiday season, including the iPhone 15 lineup and our first \\\n",
        "carbon neutral Apple Watch models, a major milestone in our efforts to \\\n",
        "make all Apple products carbon neutral by 2030.” \\\n",
        "\n",
        "“Our active installed base of devices has again reached a new all-time \\\n",
        "high across all products and all geographic segments, thanks to the strength \\\n",
        "of our ecosystem and unparalleled customer loyalty,” said Luca Maestri, \\\n",
        "Apple’s CFO. “During the September quarter, our business performance drove \\\n",
        "double digit EPS growth and we returned nearly $25 billion to our \\\n",
        "shareholders, while continuing to invest in our long-term growth plans.” \\\n",
        "\n",
        "Apple’s board of directors has declared a cash dividend of $0.24 per share \\\n",
        "of the Company’s common stock. The dividend is payable on November 16, 2023 \\\n",
        "to shareholders of record as of the close of business on November 13, 2023. \\\n",
        "\n",
        "Apple will provide live streaming of its Q4 2023 financial results conference \\\n",
        "call beginning at 2:00 p.m. PT on November 2, 2023 at \\\n",
        "apple.com/investor/earnings-call. The webcast will be available for replay \\\n",
        "for approximately two weeks thereafter.\n",
        "'''"
      ]
    },
    {
      "cell_type": "code",
      "execution_count": 22,
      "id": "ea15d1df",
      "metadata": {
      },
      "outputs": [

      ],
      "source": [
        "prompt = f\"\"\"Please pull all the important information from \\\n",
        "the below quarterly earnings report, enclosed in \\\n",
        "triple backticks. Return the result as a JSON.\\n\\n\\\n",
        "```\n",
        "{report}\n",
        "```\n",
        "\"\"\""
      ]
    },
    {
      "cell_type": "code",
      "execution_count": 24,
      "id": "340851e6",
      "metadata": {
      },
      "outputs": [
        {
          "name": "stdout",
          "output_type": "stream",
          "text": [
            "Please pull all the important information from the below quarterly earnings report, enclosed in triple backticks. Return the result as a JSON.\n",
            "\n",
            "```\n",
            "CUPERTINO, CALIFORNIA Apple today announced financial results for its fiscal 2023 fourth quarter ended September 30, 2023. The Company posted quarterly revenue of $89.5 billion, down 1 percent year over year, and quarterly earnings per diluted share of $1.46, up 13 percent year over year. \n",
            "“Today Apple is pleased to report a September quarter revenue record for iPhone and an all-time revenue record in Services,” said Tim Cook, Apple’s CEO. “We now have our strongest lineup of products ever heading into the holiday season, including the iPhone 15 lineup and our first carbon neutral Apple Watch models, a major milestone in our efforts to make all Apple products carbon neutral by 2030.” \n",
            "“Our active installed base of devices has again reached a new all-time high across all products and all geographic segments, thanks to the strength of our ecosystem and unparalleled customer loyalty,” said Luca Maestri, Apple’s CFO. “During the September quarter, our business performance drove double digit EPS growth and we returned nearly $25 billion to our shareholders, while continuing to invest in our long-term growth plans.” \n",
            "Apple’s board of directors has declared a cash dividend of $0.24 per share of the Company’s common stock. The dividend is payable on November 16, 2023 to shareholders of record as of the close of business on November 13, 2023. \n",
            "Apple will provide live streaming of its Q4 2023 financial results conference call beginning at 2:00 p.m. PT on November 2, 2023 at apple.com/investor/earnings-call. The webcast will be available for replay for approximately two weeks thereafter.\n",
            "\n",
            "```\n",
            "\n"
          ]
        }
      ],
      "source": [
        "print(prompt)"
      ]
    },
    {
      "cell_type": "code",
      "execution_count": 30,
      "id": "91ba8bb8",
      "metadata": {
      },
      "outputs": [
        {
          "data": {
            "text/plain": [
              "ChatCompletion(id='chatcmpl-94ZeoZFaVs0iY2rAkES18oBBic5pZ', choices=[Choice(finish_reason='stop', index=0, logprobs=None, message=ChatCompletionMessage(content='{\\n    \"Company\": \"Apple\",\\n    \"Quarter\": \"Q4 2023\",\\n    \"Quarterly Revenue\": \"$89.5 billion\",\\n    \"Revenue Change\": \"-1% year over year\",\\n    \"Earnings per Diluted Share\": \"$1.46\",\\n    \"EPS Change\": \"+13% year over year\",\\n    \"CEO\": \"Tim Cook\",\\n    \"CFO\": \"Luca Maestri\",\\n    \"Dividend per Share\": \"$0.24\",\\n    \"Dividend Payable Date\": \"November 16, 2023\",\\n    \"Dividend Record Date\": \"November 13, 2023\",\\n    \"Live Streaming of Earnings Call\": \"Available at apple.com/investor/earnings-call on November 2, 2023\"\\n}', role='assistant', function_call=None, tool_calls=None))], created=1710877406, model='gpt-3.5-turbo-0125', object='chat.completion', system_fingerprint='fp_4f2ebda25a', usage=CompletionUsage(completion_tokens=165, prompt_tokens=404, total_tokens=569))"
            ]
          },
          "execution_count": 30,
          "metadata": {
          },
          "output_type": "execute_result"
        }
      ],
      "source": [
        "completion = complete(prompt)\n",
        "completion"
      ]
    },
    {
      "cell_type": "code",
      "execution_count": 31,
      "id": "7d3ea7f3",
      "metadata": {
      },
      "outputs": [
        {
          "name": "stdout",
          "output_type": "stream",
          "text": [
            "{\n",
            "    \"Company\": \"Apple\",\n",
            "    \"Quarter\": \"Q4 2023\",\n",
            "    \"Quarterly Revenue\": \"$89.5 billion\",\n",
            "    \"Revenue Change\": \"-1% year over year\",\n",
            "    \"Earnings per Diluted Share\": \"$1.46\",\n",
            "    \"EPS Change\": \"+13% year over year\",\n",
            "    \"CEO\": \"Tim Cook\",\n",
            "    \"CFO\": \"Luca Maestri\",\n",
            "    \"Dividend per Share\": \"$0.24\",\n",
            "    \"Dividend Payable Date\": \"November 16, 2023\",\n",
            "    \"Dividend Record Date\": \"November 13, 2023\",\n",
            "    \"Live Streaming of Earnings Call\": \"Available at apple.com/investor/earnings-call on November 2, 2023\"\n",
            "}\n"
          ]
        }
      ],
      "source": [
        "print(get_response(completion))"
      ]
    },
    {
      "cell_type": "code",
      "execution_count": 32,
      "id": "e18f8e2f",
      "metadata": {
      },
      "outputs": [

      ],
      "source": [
        "j = json.loads(get_response(completion))"
      ]
    },
    {
      "cell_type": "code",
      "execution_count": 33,
      "id": "f84408d3",
      "metadata": {
      },
      "outputs": [
        {
          "name": "stdout",
          "output_type": "stream",
          "text": [
            "{'CEO': 'Tim Cook',\n",
            " 'CFO': 'Luca Maestri',\n",
            " 'Company': 'Apple',\n",
            " 'Dividend Payable Date': 'November 16, 2023',\n",
            " 'Dividend Record Date': 'November 13, 2023',\n",
            " 'Dividend per Share': '$0.24',\n",
            " 'EPS Change': '+13% year over year',\n",
            " 'Earnings per Diluted Share': '$1.46',\n",
            " 'Live Streaming of Earnings Call': 'Available at '\n",
            "                                    'apple.com/investor/earnings-call on '\n",
            "                                    'November 2, 2023',\n",
            " 'Quarter': 'Q4 2023',\n",
            " 'Quarterly Revenue': '$89.5 billion',\n",
            " 'Revenue Change': '-1% year over year'}\n"
          ]
        }
      ],
      "source": [
        "pprint(j)"
      ]
    },
    {
      "cell_type": "code",
      "execution_count": null,
      "id": "59eb12ff",
      "metadata": {
      },
      "outputs": [

      ],
      "source": [
        "{'CEO': 'Tim Cook',\n",
        " 'CFO': 'Luca Maestri',\n",
        " 'company': 'Apple',\n",
        " 'dividend_payable_date': 'November 16, 2023',\n",
        " 'dividend_per_share': '$0.24',\n",
        " 'dividend_record_date': 'November 13, 2023',\n",
        " 'earnings_call_date': 'November 2, 2023',\n",
        " 'earnings_call_time': '2:00 p.m. PT',\n",
        " 'earnings_call_webcast': 'apple.com/investor/earnings-call',\n",
        " 'earnings_per_share': '$1.46',\n",
        " 'earnings_per_share_change_year_over_year': '13%',\n",
        " 'fiscal_year': 2023,\n",
        " 'quarter': 'Q4',\n",
        " 'quarterly_revenue': '$89.5 billion',\n",
        " 'revenue_change_year_over_year': '-1%'}"
      ]
    },
    {
      "cell_type": "code",
      "execution_count": 34,
      "id": "a378336a",
      "metadata": {
      },
      "outputs": [

      ],
      "source": [
        "prompt = f\"\"\"Please pull all the important information from \\\n",
        "the below quarterly earnings report, enclosed in \\\n",
        "triple backticks. Return the result as a JSON.\n",
        "\n",
        "Include the keys ceo, cfo, company, dividend_payable_date, \\\n",
        "dividend_per_share, dividend_record_date, earnings_call_date, \\\n",
        "earnings_call_time, earnings_call_webcast, earnings_per_share, \\\n",
        "earnings_per_share_change_year_over_year, fiscal_year, \\\n",
        "quarter, quarterly_revenue, revenue_change_year_over_year\n",
        "\n",
        "\\n\\n\\\n",
        "```\n",
        "{report}\n",
        "```\n",
        "\"\"\""
      ]
    },
    {
      "cell_type": "code",
      "execution_count": 35,
      "id": "9164fefb",
      "metadata": {
      },
      "outputs": [
        {
          "data": {
            "text/plain": [
              "ChatCompletion(id='chatcmpl-94ZiGeR1XqDnenZ925nF7t3vLgKLN', choices=[Choice(finish_reason='stop', index=0, logprobs=None, message=ChatCompletionMessage(content='{\\n    \"ceo\": \"Tim Cook\",\\n    \"cfo\": \"Luca Maestri\",\\n    \"company\": \"Apple\",\\n    \"dividend_payable_date\": \"November 16, 2023\",\\n    \"dividend_per_share\": \"$0.24\",\\n    \"dividend_record_date\": \"November 13, 2023\",\\n    \"earnings_call_date\": \"November 2, 2023\",\\n    \"earnings_call_time\": \"2:00 p.m. PT\",\\n    \"earnings_call_webcast\": \"apple.com/investor/earnings-call\",\\n    \"earnings_per_share\": \"$1.46\",\\n    \"earnings_per_share_change_year_over_year\": \"13%\",\\n    \"fiscal_year\": \"2023\",\\n    \"quarter\": \"Q4\",\\n    \"quarterly_revenue\": \"$89.5 billion\",\\n    \"revenue_change_year_over_year\": \"-1%\"\\n}', role='assistant', function_call=None, tool_calls=None))], created=1710877620, model='gpt-3.5-turbo-0125', object='chat.completion', system_fingerprint='fp_4f2ebda25a', usage=CompletionUsage(completion_tokens=195, prompt_tokens=468, total_tokens=663))"
            ]
          },
          "execution_count": 35,
          "metadata": {
          },
          "output_type": "execute_result"
        }
      ],
      "source": [
        "completion = complete(prompt)\n",
        "completion"
      ]
    },
    {
      "cell_type": "code",
      "execution_count": 36,
      "id": "0cbbfa43",
      "metadata": {
      },
      "outputs": [

      ],
      "source": [
        "j = json.loads(get_response(completion))"
      ]
    },
    {
      "cell_type": "code",
      "execution_count": 37,
      "id": "df82f1d8",
      "metadata": {
      },
      "outputs": [
        {
          "name": "stdout",
          "output_type": "stream",
          "text": [
            "{'ceo': 'Tim Cook',\n",
            " 'cfo': 'Luca Maestri',\n",
            " 'company': 'Apple',\n",
            " 'dividend_payable_date': 'November 16, 2023',\n",
            " 'dividend_per_share': '$0.24',\n",
            " 'dividend_record_date': 'November 13, 2023',\n",
            " 'earnings_call_date': 'November 2, 2023',\n",
            " 'earnings_call_time': '2:00 p.m. PT',\n",
            " 'earnings_call_webcast': 'apple.com/investor/earnings-call',\n",
            " 'earnings_per_share': '$1.46',\n",
            " 'earnings_per_share_change_year_over_year': '13%',\n",
            " 'fiscal_year': '2023',\n",
            " 'quarter': 'Q4',\n",
            " 'quarterly_revenue': '$89.5 billion',\n",
            " 'revenue_change_year_over_year': '-1%'}\n"
          ]
        }
      ],
      "source": [
        "pprint(j)"
      ]
    },
    {
      "cell_type": "code",
      "execution_count": null,
      "id": "4085cf3c",
      "metadata": {
      },
      "outputs": [

      ],
      "source": [

      ]
    },
    {
      "cell_type": "code",
      "source": [

      ],
      "metadata": {
        "id": "S0acXBWCxiJL"
      },
      "execution_count": null,
      "outputs": [

      ]
    },
    {
      "cell_type": "code",
      "source": [

      ],
      "metadata": {
        "id": "oaG3igwFxiQU"
      },
      "execution_count": null,
      "outputs": [

      ]
    },
    {
      "cell_type": "code",
      "source": [

      ],
      "metadata": {
        "id": "PzQJleyoxiWi"
      },
      "execution_count": null,
      "outputs": [

      ]
    },
    {
      "cell_type": "markdown",
      "source": [
        "![](https://deeplearningcourses.com/notebooks_v3_pxl?sc=eJQTuAHC1iIuxyNWhKpeiw&n=Returning+Structured+Objects)"
      ],
      "metadata": {
        "id": "PFJd4PmsxjKb"
      }
    }
  ],
  "metadata": {
    "kernelspec": {
      "display_name": "Python 3 (ipykernel)",
      "language": "python",
      "name": "python3"
    },
    "language_info": {
      "codemirror_mode": {
        "name": "ipython",
        "version": 3
      },
      "file_extension": ".py",
      "mimetype": "text/x-python",
      "name": "python",
      "nbconvert_exporter": "python",
      "pygments_lexer": "ipython3",
      "version": "3.10.12"
    },
    "sc": "eJQTuAHC1iIuxyNWhKpeiw"
  },
  "nbformat": 4,
  "nbformat_minor": 5
}