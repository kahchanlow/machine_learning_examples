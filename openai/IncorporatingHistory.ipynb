{
  "cells": [
    {
      "cell_type": "code",
      "execution_count": null,
      "id": "724735b1",
      "metadata": {
      },
      "outputs": [

      ],
      "source": [
        "# This will be necessary to build a chatbot that remembers\n",
        "# what the user (and itself) said previously"
      ]
    },
    {
      "cell_type": "code",
      "execution_count": 1,
      "id": "a72d494d",
      "metadata": {
      },
      "outputs": [

      ],
      "source": [
        "from openai import OpenAI"
      ]
    },
    {
      "cell_type": "code",
      "execution_count": 2,
      "id": "ae919d8d",
      "metadata": {
      },
      "outputs": [

      ],
      "source": [
        "client = OpenAI()"
      ]
    },
    {
      "cell_type": "code",
      "execution_count": 3,
      "id": "649791d9",
      "metadata": {
      },
      "outputs": [

      ],
      "source": [
        "system_prompt = \"You are a helpful assistant that provides direct \" + \\\n",
        "    \"and straightforward answers that are as short as possible. \" + \\\n",
        "    \"You never end with caveats such as 'It is important to remember...'.\""
      ]
    },
    {
      "cell_type": "code",
      "execution_count": 5,
      "id": "2ab3ea60",
      "metadata": {
      },
      "outputs": [

      ],
      "source": [
        "# Doesn't remember!\n",
        "def complete(user_prompt):\n",
        "    completion = client.chat.completions.create(\n",
        "        model='gpt-3.5-turbo',\n",
        "        messages=[\n",
        "            {\"role\": \"system\", \"content\": system_prompt},\n",
        "            {\"role\": \"user\", \"content\": user_prompt},\n",
        "        ],\n",
        "        temperature=0,\n",
        "        max_tokens=200,\n",
        "    )\n",
        "    return completion"
      ]
    },
    {
      "cell_type": "code",
      "execution_count": 6,
      "id": "cbdf9943",
      "metadata": {
      },
      "outputs": [

      ],
      "source": [
        "def print_response(completion):\n",
        "    content = completion.choices[0].message.content\n",
        "    print(content)"
      ]
    },
    {
      "cell_type": "code",
      "execution_count": 7,
      "id": "2f1eb9bd",
      "metadata": {
      },
      "outputs": [

      ],
      "source": [
        "def complete_and_print(user_prompt):\n",
        "    completion = complete(user_prompt)\n",
        "    print_response(completion)"
      ]
    },
    {
      "cell_type": "code",
      "execution_count": 8,
      "id": "9cfcfea3",
      "metadata": {
      },
      "outputs": [
        {
          "name": "stdout",
          "output_type": "stream",
          "text": [
            "Basic knowledge of mathematics (especially linear algebra, calculus, and probability), programming skills (Python is commonly used), and understanding of data structures and algorithms.\n"
          ]
        }
      ],
      "source": [
        "complete_and_print(\"What are the prerequisites for machine learning?\")"
      ]
    },
    {
      "cell_type": "code",
      "execution_count": 9,
      "id": "162cecf9",
      "metadata": {
      },
      "outputs": [
        {
          "name": "stdout",
          "output_type": "stream",
          "text": [
            "It depends on your goals and interests.\n"
          ]
        }
      ],
      "source": [
        "complete_and_print(\"What's the best order to learn these subjects in?\")"
      ]
    },
    {
      "cell_type": "code",
      "execution_count": 10,
      "id": "0fc16b31",
      "metadata": {
      },
      "outputs": [
        {
          "name": "stdout",
          "output_type": "stream",
          "text": [
            "Mathematics.\n"
          ]
        }
      ],
      "source": [
        "complete_and_print(\"What's the most important subject you just listed?\")"
      ]
    },
    {
      "cell_type": "code",
      "execution_count": 11,
      "id": "5a026491",
      "metadata": {
      },
      "outputs": [
        {
          "name": "stdout",
          "output_type": "stream",
          "text": [
            "You asked for prerequisites for a subject.\n"
          ]
        }
      ],
      "source": [
        "complete_and_print(\"What subject did I ask for prerequisites for?\")"
      ]
    },
    {
      "cell_type": "code",
      "execution_count": 12,
      "id": "9a2916c8",
      "metadata": {
      },
      "outputs": [

      ],
      "source": [
        "def complete2(messages):\n",
        "    # takes in all messages instead of just single prompt\n",
        "    completion = client.chat.completions.create(\n",
        "        model='gpt-3.5-turbo',\n",
        "        messages=messages,\n",
        "        temperature=0,\n",
        "        max_tokens=200,\n",
        "    )\n",
        "    return completion"
      ]
    },
    {
      "cell_type": "code",
      "execution_count": 14,
      "id": "1cce305f",
      "metadata": {
      },
      "outputs": [

      ],
      "source": [
        "class Assistant:\n",
        "    def __init__(self):\n",
        "        self.messages = [\n",
        "            {\"role\": \"system\", \"content\": system_prompt}\n",
        "        ]\n",
        "    \n",
        "    def query(self, prompt):\n",
        "        # add prompt to history\n",
        "        self.messages.append({\n",
        "            \"role\": \"user\", \"content\": prompt,\n",
        "        })\n",
        "        \n",
        "        # get completion\n",
        "        completion = complete2(self.messages)\n",
        "        \n",
        "        # get response string\n",
        "        content = completion.choices[0].message.content\n",
        "        \n",
        "        # add response to history\n",
        "        self.messages.append({\n",
        "            \"role\": \"assistant\", \"content\": content,\n",
        "        })\n",
        "        \n",
        "        # show the response\n",
        "        print(content)"
      ]
    },
    {
      "cell_type": "code",
      "execution_count": 15,
      "id": "35e380bb",
      "metadata": {
      },
      "outputs": [

      ],
      "source": [
        "bot = Assistant()"
      ]
    },
    {
      "cell_type": "code",
      "execution_count": 16,
      "id": "cacd67b4",
      "metadata": {
      },
      "outputs": [
        {
          "name": "stdout",
          "output_type": "stream",
          "text": [
            "Basic knowledge of mathematics (especially linear algebra, calculus, and probability), programming skills (Python is commonly used), and understanding of data structures and algorithms.\n"
          ]
        }
      ],
      "source": [
        "bot.query(\"What are the prerequisites for machine learning?\")"
      ]
    },
    {
      "cell_type": "code",
      "execution_count": 17,
      "id": "681fab2b",
      "metadata": {
      },
      "outputs": [
        {
          "name": "stdout",
          "output_type": "stream",
          "text": [
            "Start with basic programming skills, then move on to mathematics (linear algebra, calculus, probability), followed by data structures and algorithms.\n"
          ]
        }
      ],
      "source": [
        "bot.query(\"What's the best order to learn these subjects in?\")"
      ]
    },
    {
      "cell_type": "code",
      "execution_count": 18,
      "id": "80a2a1bd",
      "metadata": {
      },
      "outputs": [
        {
          "name": "stdout",
          "output_type": "stream",
          "text": [
            "Mathematics, especially linear algebra, is crucial for understanding machine learning concepts.\n"
          ]
        }
      ],
      "source": [
        "bot.query(\"What's the most important subject you just listed?\")"
      ]
    },
    {
      "cell_type": "code",
      "execution_count": 19,
      "id": "2b7cff94",
      "metadata": {
      },
      "outputs": [
        {
          "name": "stdout",
          "output_type": "stream",
          "text": [
            "You asked for prerequisites for machine learning.\n"
          ]
        }
      ],
      "source": [
        "bot.query(\"What subject did I ask for prerequisites for?\")"
      ]
    },
    {
      "cell_type": "code",
      "execution_count": null,
      "id": "9d54b6cd",
      "metadata": {
      },
      "outputs": [

      ],
      "source": [
        "# THOUGHT EXERCISE: Currently, the chat history is only stored\n",
        "# in memory, which will be erased when the program closes.\n",
        "# How would you store the data in a database that can be\n",
        "# retrieved later, e.g. when the user leaves and logs back in?"
      ]
    },
    {
      "cell_type": "code",
      "source": [

      ],
      "metadata": {
        "id": "S0acXBWCxiJL"
      },
      "execution_count": null,
      "outputs": [

      ]
    },
    {
      "cell_type": "code",
      "source": [

      ],
      "metadata": {
        "id": "oaG3igwFxiQU"
      },
      "execution_count": null,
      "outputs": [

      ]
    },
    {
      "cell_type": "code",
      "source": [

      ],
      "metadata": {
        "id": "PzQJleyoxiWi"
      },
      "execution_count": null,
      "outputs": [

      ]
    },
    {
      "cell_type": "markdown",
      "source": [
        "![](https://deeplearningcourses.com/notebooks_v3_pxl?sc=eJQTuAHC1iIuxyNWhKpeiw&n=Incorporating+History)"
      ],
      "metadata": {
        "id": "PFJd4PmsxjKb"
      }
    }
  ],
  "metadata": {
    "kernelspec": {
      "display_name": "Python 3 (ipykernel)",
      "language": "python",
      "name": "python3"
    },
    "language_info": {
      "codemirror_mode": {
        "name": "ipython",
        "version": 3
      },
      "file_extension": ".py",
      "mimetype": "text/x-python",
      "name": "python",
      "nbconvert_exporter": "python",
      "pygments_lexer": "ipython3",
      "version": "3.10.12"
    },
    "sc": "eJQTuAHC1iIuxyNWhKpeiw"
  },
  "nbformat": 4,
  "nbformat_minor": 5
}