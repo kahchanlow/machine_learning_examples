{
  "cells": [
    {
      "cell_type": "code",
      "execution_count": 1,
      "id": "a50587a6",
      "metadata": {
      },
      "outputs": [

      ],
      "source": [
        "# Sometimes, we'd like to go in the reverse\n",
        "# Structured object --> Unstructured document\n",
        "# E.g. your accountant gives you a data sheet\n",
        "# Your job is to write the quarterly earnings report!\n",
        "\n",
        "from openai import OpenAI"
      ]
    },
    {
      "cell_type": "code",
      "execution_count": 2,
      "id": "ed4345b3",
      "metadata": {
      },
      "outputs": [

      ],
      "source": [
        "client = OpenAI()"
      ]
    },
    {
      "cell_type": "code",
      "execution_count": 3,
      "id": "b4e402e1",
      "metadata": {
      },
      "outputs": [

      ],
      "source": [
        "system_prompt = \"You are an assistant that writes concise, detailed, \" +\\\n",
        "    \"and factual quarterly earnings reports given structured data.\""
      ]
    },
    {
      "cell_type": "code",
      "execution_count": 4,
      "id": "6c3c067d",
      "metadata": {
      },
      "outputs": [

      ],
      "source": [
        "def complete(user_prompt):\n",
        "    completion = client.chat.completions.create(\n",
        "        model='gpt-3.5-turbo',\n",
        "        messages=[\n",
        "            {\"role\": \"system\", \"content\": system_prompt},\n",
        "            {\"role\": \"user\", \"content\": user_prompt},\n",
        "        ],\n",
        "        temperature=0,\n",
        "        # max_tokens=200, # don't limit output length!\n",
        "    )\n",
        "    return completion"
      ]
    },
    {
      "cell_type": "code",
      "execution_count": 5,
      "id": "e93dbcfb",
      "metadata": {
      },
      "outputs": [

      ],
      "source": [
        "import json\n",
        "\n",
        "j = {'CEO': 'Tim Cook',\n",
        " 'CFO': 'Luca Maestri',\n",
        " 'company': 'Apple',\n",
        " 'dividend_payable_date': 'November 16, 2023',\n",
        " 'dividend_per_share': '$0.24',\n",
        " 'dividend_record_date': 'November 13, 2023',\n",
        " 'earnings_call_date': 'November 2, 2023',\n",
        " 'earnings_call_time': '2:00 p.m. PT',\n",
        " 'earnings_call_webcast': 'apple.com/investor/earnings-call',\n",
        " 'earnings_per_share': '$1.46',\n",
        " 'earnings_per_share_change_year_over_year': '13%',\n",
        " 'fiscal_year': 2023,\n",
        " 'quarter': 'Q4',\n",
        " 'quarterly_revenue': '$89.5 billion',\n",
        " 'revenue_change_year_over_year': '-1%'}"
      ]
    },
    {
      "cell_type": "code",
      "execution_count": 6,
      "id": "7acde9f2",
      "metadata": {
      },
      "outputs": [
        {
          "name": "stdout",
          "output_type": "stream",
          "text": [
            "{\"CEO\": \"Tim Cook\", \"CFO\": \"Luca Maestri\", \"company\": \"Apple\", \"dividend_payable_date\": \"November 16, 2023\", \"dividend_per_share\": \"$0.24\", \"dividend_record_date\": \"November 13, 2023\", \"earnings_call_date\": \"November 2, 2023\", \"earnings_call_time\": \"2:00 p.m. PT\", \"earnings_call_webcast\": \"apple.com/investor/earnings-call\", \"earnings_per_share\": \"$1.46\", \"earnings_per_share_change_year_over_year\": \"13%\", \"fiscal_year\": 2023, \"quarter\": \"Q4\", \"quarterly_revenue\": \"$89.5 billion\", \"revenue_change_year_over_year\": \"-1%\"}\n"
          ]
        }
      ],
      "source": [
        "js = json.dumps(j)\n",
        "print(js)"
      ]
    },
    {
      "cell_type": "code",
      "execution_count": 7,
      "id": "7baff82b",
      "metadata": {
      },
      "outputs": [
        {
          "name": "stdout",
          "output_type": "stream",
          "text": [
            "Please convert the following JSON document enclosed in triple backticks into a quarterly earnings report suitable for shareholders.\n",
            "\n",
            "```\n",
            "{\"CEO\": \"Tim Cook\", \"CFO\": \"Luca Maestri\", \"company\": \"Apple\", \"dividend_payable_date\": \"November 16, 2023\", \"dividend_per_share\": \"$0.24\", \"dividend_record_date\": \"November 13, 2023\", \"earnings_call_date\": \"November 2, 2023\", \"earnings_call_time\": \"2:00 p.m. PT\", \"earnings_call_webcast\": \"apple.com/investor/earnings-call\", \"earnings_per_share\": \"$1.46\", \"earnings_per_share_change_year_over_year\": \"13%\", \"fiscal_year\": 2023, \"quarter\": \"Q4\", \"quarterly_revenue\": \"$89.5 billion\", \"revenue_change_year_over_year\": \"-1%\"}\n",
            "```\n",
            "\n"
          ]
        }
      ],
      "source": [
        "prompt = f\"\"\"Please convert the following JSON document enclosed in \\\n",
        "triple backticks into a quarterly earnings report suitable for \\\n",
        "shareholders.\\n\\n\\\n",
        "```\n",
        "{js}\n",
        "```\n",
        "\"\"\"\n",
        "print(prompt)"
      ]
    },
    {
      "cell_type": "code",
      "execution_count": 8,
      "id": "5d73a5e8",
      "metadata": {
      },
      "outputs": [
        {
          "data": {
            "text/plain": [
              "ChatCompletion(id='chatcmpl-94cwmejJ4qnJmvHXb7C0nExBl4s8Q', choices=[Choice(finish_reason='stop', index=0, logprobs=None, message=ChatCompletionMessage(content=\"**Apple Inc. Quarterly Earnings Report - Q4 2023**\\n\\n- **Company:** Apple Inc.\\n- **Fiscal Year:** 2023\\n- **Quarter:** Q4\\n- **CEO:** Tim Cook\\n- **CFO:** Luca Maestri\\n\\n**Financial Highlights:**\\n- **Quarterly Revenue:** $89.5 billion\\n- **Revenue Change Year Over Year:** -1%\\n- **Earnings Per Share (EPS):** $1.46\\n- **EPS Change Year Over Year:** 13%\\n\\n**Important Dates:**\\n- **Earnings Call Date:** November 2, 2023\\n- **Earnings Call Time:** 2:00 p.m. PT\\n- **Earnings Call Webcast:** [apple.com/investor/earnings-call](apple.com/investor/earnings-call)\\n- **Dividend Record Date:** November 13, 2023\\n- **Dividend Payable Date:** November 16, 2023\\n- **Dividend Per Share:** $0.24\\n\\nThis quarter, Apple Inc. reported a quarterly revenue of $89.5 billion, representing a decrease of 1% compared to the same quarter last year. The earnings per share (EPS) stood at $1.46, showing a positive growth of 13% year over year.\\n\\nShareholders are encouraged to participate in the upcoming earnings call scheduled for November 2, 2023, at 2:00 p.m. PT. The dividend record date is set for November 13, 2023, with a dividend payable date of November 16, 2023, offering a dividend per share of $0.24.\\n\\nFor more detailed financial information and insights, please refer to the official quarterly earnings report on the company's investor relations website.\", role='assistant', function_call=None, tool_calls=None))], created=1710890052, model='gpt-3.5-turbo-0125', object='chat.completion', system_fingerprint='fp_4f0b692a78', usage=CompletionUsage(completion_tokens=371, prompt_tokens=232, total_tokens=603))"
            ]
          },
          "execution_count": 8,
          "metadata": {
          },
          "output_type": "execute_result"
        }
      ],
      "source": [
        "completion = complete(prompt)\n",
        "completion"
      ]
    },
    {
      "cell_type": "code",
      "execution_count": 9,
      "id": "70bae298",
      "metadata": {
      },
      "outputs": [

      ],
      "source": [
        "def print_response(completion):\n",
        "    content = completion.choices[0].message.content\n",
        "    print(content)"
      ]
    },
    {
      "cell_type": "code",
      "execution_count": 10,
      "id": "3428ae50",
      "metadata": {
      },
      "outputs": [
        {
          "name": "stdout",
          "output_type": "stream",
          "text": [
            "**Apple Inc. Quarterly Earnings Report - Q4 2023**\n",
            "\n",
            "- **Company:** Apple Inc.\n",
            "- **Fiscal Year:** 2023\n",
            "- **Quarter:** Q4\n",
            "- **CEO:** Tim Cook\n",
            "- **CFO:** Luca Maestri\n",
            "\n",
            "**Financial Highlights:**\n",
            "- **Quarterly Revenue:** $89.5 billion\n",
            "- **Revenue Change Year Over Year:** -1%\n",
            "- **Earnings Per Share (EPS):** $1.46\n",
            "- **EPS Change Year Over Year:** 13%\n",
            "\n",
            "**Important Dates:**\n",
            "- **Earnings Call Date:** November 2, 2023\n",
            "- **Earnings Call Time:** 2:00 p.m. PT\n",
            "- **Earnings Call Webcast:** [apple.com/investor/earnings-call](apple.com/investor/earnings-call)\n",
            "- **Dividend Record Date:** November 13, 2023\n",
            "- **Dividend Payable Date:** November 16, 2023\n",
            "- **Dividend Per Share:** $0.24\n",
            "\n",
            "This quarter, Apple Inc. reported a quarterly revenue of $89.5 billion, representing a decrease of 1% compared to the same quarter last year. The earnings per share (EPS) stood at $1.46, showing a positive growth of 13% year over year.\n",
            "\n",
            "Shareholders are encouraged to participate in the upcoming earnings call scheduled for November 2, 2023, at 2:00 p.m. PT. The dividend record date is set for November 13, 2023, with a dividend payable date of November 16, 2023, offering a dividend per share of $0.24.\n",
            "\n",
            "For more detailed financial information and insights, please refer to the official quarterly earnings report on the company's investor relations website.\n"
          ]
        }
      ],
      "source": [
        "print_response(completion)"
      ]
    },
    {
      "cell_type": "code",
      "execution_count": 12,
      "id": "cef837d8",
      "metadata": {
      },
      "outputs": [
        {
          "data": {
            "text/markdown": [
              "**Apple Inc. Quarterly Earnings Report - Q4 2023**\n",
              "\n",
              "- **Company:** Apple Inc.\n",
              "- **Fiscal Year:** 2023\n",
              "- **Quarter:** Q4\n",
              "- **CEO:** Tim Cook\n",
              "- **CFO:** Luca Maestri\n",
              "\n",
              "**Financial Highlights:**\n",
              "- **Quarterly Revenue:** $89.5 billion\n",
              "- **Revenue Change Year Over Year:** -1%\n",
              "- **Earnings Per Share (EPS):** $1.46\n",
              "- **EPS Change Year Over Year:** 13%\n",
              "\n",
              "**Important Dates:**\n",
              "- **Earnings Call Date:** November 2, 2023\n",
              "- **Earnings Call Time:** 2:00 p.m. PT\n",
              "- **Earnings Call Webcast:** [apple.com/investor/earnings-call](apple.com/investor/earnings-call)\n",
              "- **Dividend Record Date:** November 13, 2023\n",
              "- **Dividend Payable Date:** November 16, 2023\n",
              "- **Dividend Per Share:** $0.24\n",
              "\n",
              "This quarter, Apple Inc. reported a quarterly revenue of $89.5 billion, representing a decrease of 1% compared to the same quarter last year. The earnings per share (EPS) stood at $1.46, showing a positive growth of 13% year over year.\n",
              "\n",
              "Shareholders are encouraged to participate in the upcoming earnings call scheduled for November 2, 2023, at 2:00 p.m. PT. The dividend record date is set for November 13, 2023, with a dividend payable date of November 16, 2023, offering a dividend per share of $0.24.\n",
              "\n",
              "For more detailed financial information and insights, please refer to the official quarterly earnings report on the company's investor relations website."
            ],
            "text/plain": [
              "<IPython.core.display.Markdown object>"
            ]
          },
          "metadata": {
          },
          "output_type": "display_data"
        }
      ],
      "source": [
        "from IPython.display import display, Markdown\n",
        "display(Markdown(completion.choices[0].message.content))"
      ]
    },
    {
      "cell_type": "code",
      "execution_count": 16,
      "id": "36c8de96",
      "metadata": {
      },
      "outputs": [
        {
          "data": {
            "text/markdown": [
              "\n",
              "Hello world\n",
              "\n",
              "$y = w^T x$\n"
            ],
            "text/plain": [
              "<IPython.core.display.Markdown object>"
            ]
          },
          "metadata": {
          },
          "output_type": "display_data"
        }
      ],
      "source": [
        "s = \"\"\"\n",
        "Hello world\n",
        "\n",
        "$y = w^T x$\n",
        "\"\"\"\n",
        "display(Markdown(s))"
      ]
    },
    {
      "cell_type": "code",
      "execution_count": null,
      "id": "668bef36",
      "metadata": {
      },
      "outputs": [

      ],
      "source": [

      ]
    },
    {
      "cell_type": "code",
      "source": [

      ],
      "metadata": {
        "id": "S0acXBWCxiJL"
      },
      "execution_count": null,
      "outputs": [

      ]
    },
    {
      "cell_type": "code",
      "source": [

      ],
      "metadata": {
        "id": "oaG3igwFxiQU"
      },
      "execution_count": null,
      "outputs": [

      ]
    },
    {
      "cell_type": "code",
      "source": [

      ],
      "metadata": {
        "id": "PzQJleyoxiWi"
      },
      "execution_count": null,
      "outputs": [

      ]
    },
    {
      "cell_type": "markdown",
      "source": [
        "![](https://deeplearningcourses.com/notebooks_v3_pxl?sc=eJQTuAHC1iIuxyNWhKpeiw&n=Structured+%3E+Unstructured)"
      ],
      "metadata": {
        "id": "PFJd4PmsxjKb"
      }
    }
  ],
  "metadata": {
    "kernelspec": {
      "display_name": "Python 3 (ipykernel)",
      "language": "python",
      "name": "python3"
    },
    "language_info": {
      "codemirror_mode": {
        "name": "ipython",
        "version": 3
      },
      "file_extension": ".py",
      "mimetype": "text/x-python",
      "name": "python",
      "nbconvert_exporter": "python",
      "pygments_lexer": "ipython3",
      "version": "3.10.12"
    },
    "sc": "eJQTuAHC1iIuxyNWhKpeiw"
  },
  "nbformat": 4,
  "nbformat_minor": 5
}