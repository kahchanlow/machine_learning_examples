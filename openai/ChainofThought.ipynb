{
  "cells": [
    {
      "cell_type": "code",
      "execution_count": 1,
      "id": "6b28faaa",
      "metadata": {
      },
      "outputs": [

      ],
      "source": [
        "# Idea: breaking a problem down into steps makes\n",
        "# reasoning explicit and increases the chance\n",
        "# of arriving at the correct answer.\n",
        "from openai import OpenAI"
      ]
    },
    {
      "cell_type": "code",
      "execution_count": 2,
      "id": "cd9596f1",
      "metadata": {
      },
      "outputs": [

      ],
      "source": [
        "client = OpenAI()"
      ]
    },
    {
      "cell_type": "code",
      "execution_count": 26,
      "id": "cff94b35",
      "metadata": {
      },
      "outputs": [

      ],
      "source": [
        "def complete(user_prompt, max_tokens=100):\n",
        "    completion = client.chat.completions.create(\n",
        "        model='gpt-3.5-turbo',\n",
        "        messages=[\n",
        "            {\"role\": \"user\", \"content\": user_prompt},\n",
        "        ],\n",
        "        temperature=0,\n",
        "        max_tokens=max_tokens,\n",
        "    )\n",
        "    return completion"
      ]
    },
    {
      "cell_type": "code",
      "execution_count": 4,
      "id": "ad7f2bb4",
      "metadata": {
      },
      "outputs": [

      ],
      "source": [
        "prompt = \"\"\"I went to the market and bought 10 apples. \\\n",
        "I gave 2 apples to the neighbor and 2 to the repairman. \\\n",
        "I then bought 5 more apples and ate 1. How many apples \\\n",
        "do I have now?\"\"\""
      ]
    },
    {
      "cell_type": "code",
      "execution_count": 5,
      "id": "7847e538",
      "metadata": {
      },
      "outputs": [

      ],
      "source": [
        "completion = complete(prompt)"
      ]
    },
    {
      "cell_type": "code",
      "execution_count": 6,
      "id": "92952a99",
      "metadata": {
      },
      "outputs": [

      ],
      "source": [
        "def print_response(completion):\n",
        "    content = completion.choices[0].message.content\n",
        "    print(content)"
      ]
    },
    {
      "cell_type": "code",
      "execution_count": 7,
      "id": "d835a8f1",
      "metadata": {
      },
      "outputs": [
        {
          "name": "stdout",
          "output_type": "stream",
          "text": [
            "You have 10 apples - 2 apples given to the neighbor - 2 apples given to the repairman + 5 apples bought - 1 apple eaten = 10 apples.\n"
          ]
        }
      ],
      "source": [
        "print_response(completion)"
      ]
    },
    {
      "cell_type": "code",
      "execution_count": 8,
      "id": "c067a209",
      "metadata": {
      },
      "outputs": [

      ],
      "source": [
        "prompt = \"\"\"A juggler can juggle 16 balls. Half of the \\\n",
        "balls are golf balls, and half of the golf balls are \\\n",
        "blue. How many blue golf balls are there?\"\"\""
      ]
    },
    {
      "cell_type": "code",
      "execution_count": 10,
      "id": "19aca0fb",
      "metadata": {
      },
      "outputs": [
        {
          "name": "stdout",
          "output_type": "stream",
          "text": [
            "There are 4 blue golf balls. \n",
            "\n",
            "Since half of the balls are golf balls, there are 8 golf balls in total. And since half of the golf balls are blue, there are 4 blue golf balls.\n"
          ]
        }
      ],
      "source": [
        "completion = complete(prompt)\n",
        "print_response(completion)"
      ]
    },
    {
      "cell_type": "code",
      "execution_count": 11,
      "id": "0711fc1c",
      "metadata": {
      },
      "outputs": [

      ],
      "source": [
        "prompt = \"\"\"A juggler can juggle 16 balls. Half of the \\\n",
        "balls are golf balls, and half of the golf balls are \\\n",
        "blue. How many blue golf balls are there?\n",
        "\n",
        "Let's think step by step.\"\"\""
      ]
    },
    {
      "cell_type": "code",
      "execution_count": 12,
      "id": "9a479c88",
      "metadata": {
      },
      "outputs": [
        {
          "name": "stdout",
          "output_type": "stream",
          "text": [
            "First, we know that the juggler can juggle 16 balls. Since half of the balls are golf balls, that means there are 8 golf balls in total.\n",
            "\n",
            "Next, we know that half of the golf balls are blue. So, half of 8 is 4. Therefore, there are 4 blue golf balls in total.\n",
            "\n",
            "So, there are 4 blue golf balls.\n"
          ]
        }
      ],
      "source": [
        "completion = complete(prompt)\n",
        "print_response(completion)"
      ]
    },
    {
      "cell_type": "code",
      "execution_count": 13,
      "id": "71dad84c",
      "metadata": {
      },
      "outputs": [

      ],
      "source": [
        "# from https://arxiv.org/pdf/2201.11903.pdf\n",
        "# in the paper, standard prompt gets wrong answer\n",
        "# while CoT prompt gets right answer\n",
        "# they used GPT-3 / PaLM / a few others\n",
        "# (not instruction fine-tuned)\n",
        "prompt = \"\"\"The cafeteria had 23 apples. If they used 20 to \\\n",
        "make lunch and bought 6 more, how many apples do they have?\"\"\""
      ]
    },
    {
      "cell_type": "code",
      "execution_count": 14,
      "id": "ac900e19",
      "metadata": {
      },
      "outputs": [
        {
          "name": "stdout",
          "output_type": "stream",
          "text": [
            "After using 20 apples for lunch, the cafeteria has 23 - 20 = 3 apples left.\n",
            "After buying 6 more apples, the cafeteria has a total of 3 + 6 = 9 apples.\n"
          ]
        }
      ],
      "source": [
        "completion = complete(prompt)\n",
        "print_response(completion)"
      ]
    },
    {
      "cell_type": "code",
      "execution_count": 15,
      "id": "6b1b26eb",
      "metadata": {
      },
      "outputs": [

      ],
      "source": [
        "prompt = \"\"\"Tracy used a piece of wire 4 feet long \\\n",
        "to support tomato plants in the garden. The wire was cut \\\n",
        "into pieces 6 inches long. How many pieces did she obtain?\n",
        "\"\"\""
      ]
    },
    {
      "cell_type": "code",
      "execution_count": 16,
      "id": "8d53c299",
      "metadata": {
      },
      "outputs": [
        {
          "name": "stdout",
          "output_type": "stream",
          "text": [
            "There are 12 inches in a foot, so 4 feet is equal to 4 x 12 = 48 inches.\n",
            "\n",
            "If Tracy cut the wire into pieces that are 6 inches long, then she obtained 48 / 6 = 8 pieces. \n",
            "\n",
            "Therefore, Tracy obtained 8 pieces of wire.\n"
          ]
        }
      ],
      "source": [
        "completion = complete(prompt)\n",
        "print_response(completion)"
      ]
    },
    {
      "cell_type": "code",
      "execution_count": 17,
      "id": "3bdf2e1e",
      "metadata": {
      },
      "outputs": [

      ],
      "source": [
        "prompt = \"\"\"An airplane accelerates down a runway at \\\n",
        "3.20 m/s^2 for 32.8 s until is finally lifts off the ground. \\\n",
        "Determine the distance traveled before takeoff.\n",
        "\"\"\""
      ]
    },
    {
      "cell_type": "code",
      "execution_count": 21,
      "id": "a97a22a7",
      "metadata": {
      },
      "outputs": [
        {
          "name": "stdout",
          "output_type": "stream",
          "text": [
            "To determine the distance traveled before takeoff, we can use the equation:\n",
            "\n",
            "\\[ d = v_i t + \\frac{1}{2} a t^2 \\]\n",
            "\n",
            "Where:\n",
            "- \\( d \\) is the distance traveled\n",
            "- \\( v_i \\) is the initial velocity (0 m/s since the airplane starts from rest)\n",
            "- \\( a \\) is the acceleration (3.20 m/s^2)\n",
            "- \\( t \\) is the time taken (32.8 s)\n",
            "\n",
            "Plugging in the values, we get:\n",
            "\n",
            "\\[ d = 0 \\times 32.8 + \\frac{1}{2} \\times 3.20 \\times (32.8)^2 \\]\n",
            "\\[ d = 0 + \\frac{1}{2} \\times 3.20 \\times 1075.84 \\]\n",
            "\\[ d = 0 + 1721.344 \\]\n",
            "\\[ d = 1721.344 \\text{ meters} \\]\n",
            "\n",
            "\n"
          ]
        }
      ],
      "source": [
        "completion = complete(prompt, max_tokens=500)\n",
        "print_response(completion)"
      ]
    },
    {
      "cell_type": "code",
      "execution_count": 24,
      "id": "3ee5037b",
      "metadata": {
      },
      "outputs": [
        {
          "data": {
            "text/latex": [
              "To determine the distance traveled before takeoff, we can use the equation:\n",
              "\n",
              "\\[ d = v_i t + \\frac{1}{2} a t^2 \\]\n",
              "\n",
              "Where:\n",
              "- \\( d \\) is the distance traveled\n",
              "- \\( v_i \\) is the initial velocity (0 m/s since the airplane starts from rest)\n",
              "- \\( a \\) is the acceleration (3.20 m/s^2)\n",
              "- \\( t \\) is the time taken (32.8 s)\n",
              "\n",
              "Plugging in the values, we get:\n",
              "\n",
              "\\[ d = 0 \\times 32.8 + \\frac{1}{2} \\times 3.20 \\times (32.8)^2 \\]\n",
              "\\[ d = 0 + \\frac{1}{2} \\times 3.20 \\times 1075.84 \\]\n",
              "\\[ d = 0 + 1721.344 \\]\n",
              "\\[ d = 1721.344 \\text{ meters} \\]\n",
              "\n"
            ],
            "text/plain": [
              "<IPython.core.display.Latex object>"
            ]
          },
          "metadata": {
          },
          "output_type": "display_data"
        }
      ],
      "source": [
        "from IPython.display import display, Markdown, Latex\n",
        "display(Latex(completion.choices[0].message.content))"
      ]
    },
    {
      "cell_type": "code",
      "execution_count": 27,
      "id": "11dcc489",
      "metadata": {
      },
      "outputs": [
        {
          "name": "stdout",
          "output_type": "stream",
          "text": [
            "To solve this equation, we can take the natural logarithm of both sides to eliminate the exponents:\n",
            "\n",
            "ln(2^(x - 5)) = ln(3^(x+1))\n",
            "\n",
            "Using the property of logarithms that ln(a^b) = b*ln(a), we can simplify the equation:\n",
            "\n",
            "(x - 5)ln(2) = (x + 1)ln(3)\n",
            "\n",
            "Expand both sides:\n",
            "\n",
            "xln(2) - 5ln(2) = xln(3) + ln(3)\n",
            "\n",
            "Rearrange the equation to isolate x terms on one side:\n",
            "\n",
            "xln(2) - xln(3) = ln(3) + 5ln(2)\n",
            "\n",
            "Factor out x:\n",
            "\n",
            "x(ln(2) - ln(3)) = ln(3) + 5ln(2)\n",
            "\n",
            "Now divide by (ln(2) - ln(3)) to solve for x:\n",
            "\n",
            "x = (ln(3) + 5ln(2)) / (ln(2) - ln(3))\n",
            "\n",
            "x ≈ -2.709\n"
          ]
        }
      ],
      "source": [
        "prompt = \"\"\"2^(x - 5) = 3^(x+1). Solve for x.\"\"\"\n",
        "completion = complete(prompt, max_tokens=500)\n",
        "print_response(completion)"
      ]
    },
    {
      "cell_type": "code",
      "execution_count": null,
      "id": "57d342fb",
      "metadata": {
      },
      "outputs": [

      ],
      "source": [

      ]
    },
    {
      "cell_type": "code",
      "source": [

      ],
      "metadata": {
        "id": "S0acXBWCxiJL"
      },
      "execution_count": null,
      "outputs": [

      ]
    },
    {
      "cell_type": "code",
      "source": [

      ],
      "metadata": {
        "id": "oaG3igwFxiQU"
      },
      "execution_count": null,
      "outputs": [

      ]
    },
    {
      "cell_type": "code",
      "source": [

      ],
      "metadata": {
        "id": "PzQJleyoxiWi"
      },
      "execution_count": null,
      "outputs": [

      ]
    },
    {
      "cell_type": "markdown",
      "source": [
        "![](https://deeplearningcourses.com/notebooks_v3_pxl?sc=eJQTuAHC1iIuxyNWhKpeiw&n=Chain+of+Thought)"
      ],
      "metadata": {
        "id": "PFJd4PmsxjKb"
      }
    }
  ],
  "metadata": {
    "kernelspec": {
      "display_name": "Python 3 (ipykernel)",
      "language": "python",
      "name": "python3"
    },
    "language_info": {
      "codemirror_mode": {
        "name": "ipython",
        "version": 3
      },
      "file_extension": ".py",
      "mimetype": "text/x-python",
      "name": "python",
      "nbconvert_exporter": "python",
      "pygments_lexer": "ipython3",
      "version": "3.10.12"
    },
    "sc": "eJQTuAHC1iIuxyNWhKpeiw"
  },
  "nbformat": 4,
  "nbformat_minor": 5
}