{
  "cells": [
    {
      "cell_type": "code",
      "execution_count": 1,
      "id": "aac2e2f1",
      "metadata": {
      },
      "outputs": [

      ],
      "source": [
        "from openai import OpenAI"
      ]
    },
    {
      "cell_type": "code",
      "execution_count": 2,
      "id": "9ad2bb0f",
      "metadata": {
      },
      "outputs": [

      ],
      "source": [
        "client = OpenAI()"
      ]
    },
    {
      "cell_type": "code",
      "execution_count": 3,
      "id": "dfeac7dc",
      "metadata": {
      },
      "outputs": [

      ],
      "source": [
        "def complete(user_prompt):\n",
        "    completion = client.chat.completions.create(\n",
        "        model='gpt-3.5-turbo',\n",
        "        messages=[\n",
        "#             {\"role\": \"system\", \"content\": system_prompt},\n",
        "            {\"role\": \"user\", \"content\": user_prompt},\n",
        "        ],\n",
        "        temperature=0,\n",
        "        # max_tokens=200, # don't limit output length!\n",
        "    )\n",
        "    return completion"
      ]
    },
    {
      "cell_type": "code",
      "execution_count": 4,
      "id": "c01b576f",
      "metadata": {
      },
      "outputs": [

      ],
      "source": [
        "prompt = f\"\"\"\n",
        "Translate the following English text to Spanish: \\\n",
        "```Hello. How are you?```\n",
        "\"\"\"\n",
        "completion = complete(prompt)"
      ]
    },
    {
      "cell_type": "code",
      "execution_count": 5,
      "id": "e02f052b",
      "metadata": {
      },
      "outputs": [

      ],
      "source": [
        "def print_response(completion):\n",
        "    content = completion.choices[0].message.content\n",
        "    print(content)"
      ]
    },
    {
      "cell_type": "code",
      "execution_count": 6,
      "id": "bb739a5a",
      "metadata": {
      },
      "outputs": [
        {
          "name": "stdout",
          "output_type": "stream",
          "text": [
            "Hola. ¿Cómo estás?\n"
          ]
        }
      ],
      "source": [
        "print_response(completion)"
      ]
    },
    {
      "cell_type": "code",
      "execution_count": 7,
      "id": "2f57399a",
      "metadata": {
      },
      "outputs": [

      ],
      "source": [
        "prompt = f\"\"\"\n",
        "Translate the following English text to nerdy scientist: \\\n",
        "```I'm hungry. Can I have McNuggets?```\n",
        "\"\"\"\n",
        "completion = complete(prompt)"
      ]
    },
    {
      "cell_type": "code",
      "execution_count": 8,
      "id": "fb6d305d",
      "metadata": {
      },
      "outputs": [
        {
          "name": "stdout",
          "output_type": "stream",
          "text": [
            "\"I am experiencing a sensation of hunger. May I request the consumption of McNuggets?\"\n"
          ]
        }
      ],
      "source": [
        "print_response(completion)"
      ]
    },
    {
      "cell_type": "code",
      "execution_count": 10,
      "id": "02118b63",
      "metadata": {
      },
      "outputs": [
        {
          "name": "stdout",
          "output_type": "stream",
          "text": [
            "Chinese\n"
          ]
        }
      ],
      "source": [
        "# Translating arbitrary languages\n",
        "# Use-case: building a customer service bot\n",
        "# You don't know what language your customers will write in!\n",
        "# \"But can't the bot reply in any language?\"\n",
        "# Sure, but what if your company documents (e.g. for RAG)\n",
        "# are in English?\n",
        "\n",
        "user_message = \"我的搅拌机坏了。 我应该怎么办\"\n",
        "prompt = f\"\"\"What language is this message in? \\\n",
        "State only the language.\n",
        "```{user_message}```\n",
        "\"\"\"\n",
        "\n",
        "completion = complete(prompt)\n",
        "print_response(completion)"
      ]
    },
    {
      "cell_type": "code",
      "execution_count": 12,
      "id": "2b523654",
      "metadata": {
      },
      "outputs": [
        {
          "name": "stdout",
          "output_type": "stream",
          "text": [
            "Dear customer,\n",
            "\n",
            "Thank you for reaching out to us. We are sorry to hear that your blender is not working. In order to assist you further, could you please provide us with more details about the issue you are experiencing? Once we have more information, we will be able to advise you on the best course of action to resolve the problem.\n",
            "\n",
            "Thank you for your understanding and cooperation. We look forward to hearing from you soon.\n",
            "\n",
            "Best regards,\n",
            "[Your Name]\n",
            "Customer Service Team\n"
          ]
        }
      ],
      "source": [
        "# What language will it reply in?\n",
        "\n",
        "prompt = f\"\"\"Please write a polite customer service \\\n",
        "response to a customer who has sent the following \\\n",
        "message:\n",
        "\n",
        "```{user_message}```\n",
        "\"\"\"\n",
        "\n",
        "completion = complete(prompt)\n",
        "print_response(completion)"
      ]
    },
    {
      "cell_type": "code",
      "execution_count": 14,
      "id": "7d71bc68",
      "metadata": {
      },
      "outputs": [
        {
          "name": "stdout",
          "output_type": "stream",
          "text": [
            "尊敬的客户，非常抱歉听到您的搅拌机坏了。请您提供更多详细信息，例如购买日期和机器型号，以便我们更好地帮助您解决问题。我们会尽快安排维修或更换服务，感谢您的耐心等待。祝您生活愉快！\n"
          ]
        }
      ],
      "source": [
        "prompt = f\"\"\"Please write a polite customer service \\\n",
        "response to a customer who has sent the following \\\n",
        "message. Please reply in Chinese. \\\n",
        "\n",
        "```{user_message}```\n",
        "\"\"\"\n",
        "\n",
        "completion = complete(prompt)\n",
        "print_response(completion)"
      ]
    },
    {
      "cell_type": "code",
      "execution_count": 15,
      "id": "edb6504e",
      "metadata": {
      },
      "outputs": [
        {
          "name": "stdout",
          "output_type": "stream",
          "text": [
            "We apologize for any confusion, but it appears that you did not meet the prerequisites for this course. We understand that this may be disappointing, but we are here to help you find a suitable alternative that aligns with your academic goals. Please let us know if you have any questions or need further assistance. Thank you for your understanding.\n"
          ]
        }
      ],
      "source": [
        "# Improving tone\n",
        "\n",
        "reply = \"Why didn't you meet the prerequisites for this course you bozo?\"\n",
        "prompt = f\"\"\"Please rewrite the following customer service \\\n",
        "reply to be extremely polite and compassionate towards the customer / student \\\n",
        "\n",
        "```\n",
        "{reply}\n",
        "```\n",
        "\"\"\"\n",
        "\n",
        "completion = complete(prompt)\n",
        "print_response(completion)"
      ]
    },
    {
      "cell_type": "code",
      "execution_count": null,
      "id": "8c6050e4",
      "metadata": {
      },
      "outputs": [

      ],
      "source": [

      ]
    },
    {
      "cell_type": "code",
      "source": [

      ],
      "metadata": {
        "id": "S0acXBWCxiJL"
      },
      "execution_count": null,
      "outputs": [

      ]
    },
    {
      "cell_type": "code",
      "source": [

      ],
      "metadata": {
        "id": "oaG3igwFxiQU"
      },
      "execution_count": null,
      "outputs": [

      ]
    },
    {
      "cell_type": "code",
      "source": [

      ],
      "metadata": {
        "id": "PzQJleyoxiWi"
      },
      "execution_count": null,
      "outputs": [

      ]
    },
    {
      "cell_type": "markdown",
      "source": [
        "![](https://deeplearningcourses.com/notebooks_v3_pxl?sc=eJQTuAHC1iIuxyNWhKpeiw&n=Translation)"
      ],
      "metadata": {
        "id": "PFJd4PmsxjKb"
      }
    }
  ],
  "metadata": {
    "kernelspec": {
      "display_name": "Python 3 (ipykernel)",
      "language": "python",
      "name": "python3"
    },
    "language_info": {
      "codemirror_mode": {
        "name": "ipython",
        "version": 3
      },
      "file_extension": ".py",
      "mimetype": "text/x-python",
      "name": "python",
      "nbconvert_exporter": "python",
      "pygments_lexer": "ipython3",
      "version": "3.10.12"
    },
    "sc": "eJQTuAHC1iIuxyNWhKpeiw"
  },
  "nbformat": 4,
  "nbformat_minor": 5
}