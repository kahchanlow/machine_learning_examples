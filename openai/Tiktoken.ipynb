{
  "cells": [
    {
      "cell_type": "markdown",
      "id": "87737056",
      "metadata": {
      },
      "source": [
        "Why?\n",
        "\n",
        "* Want to estimate costs (pay per token)\n",
        "* Want to ensure your prompt doesn't exceed max sequence length"
      ]
    },
    {
      "cell_type": "code",
      "execution_count": 1,
      "id": "0ee9b36e",
      "metadata": {
      },
      "outputs": [

      ],
      "source": [
        "import tiktoken"
      ]
    },
    {
      "cell_type": "code",
      "execution_count": 2,
      "id": "846d5061",
      "metadata": {
      },
      "outputs": [
        {
          "data": {
            "text/plain": [
              "<Encoding 'cl100k_base'>"
            ]
          },
          "execution_count": 2,
          "metadata": {
          },
          "output_type": "execute_result"
        }
      ],
      "source": [
        "# used for gpt-4, gpt-3.5-turbo, text-embedding-ada-002\n",
        "encoding = tiktoken.get_encoding(\"cl100k_base\")\n",
        "encoding"
      ]
    },
    {
      "cell_type": "code",
      "execution_count": 4,
      "id": "836f95eb",
      "metadata": {
      },
      "outputs": [
        {
          "data": {
            "text/plain": [
              "<Encoding 'cl100k_base'>"
            ]
          },
          "execution_count": 4,
          "metadata": {
          },
          "output_type": "execute_result"
        }
      ],
      "source": [
        "# alternatively, use model name\n",
        "encoding = tiktoken.encoding_for_model(\"gpt-3.5-turbo\")\n",
        "encoding"
      ]
    },
    {
      "cell_type": "code",
      "execution_count": 5,
      "id": "22371021",
      "metadata": {
      },
      "outputs": [

      ],
      "source": [
        "text = \"I'm taking the Lazy Programmer's latest AI course!\""
      ]
    },
    {
      "cell_type": "code",
      "execution_count": 6,
      "id": "54e0c90a",
      "metadata": {
      },
      "outputs": [
        {
          "data": {
            "text/plain": [
              "[40, 2846, 4737, 279, 45363, 89124, 596, 5652, 15592, 3388, 0]"
            ]
          },
          "execution_count": 6,
          "metadata": {
          },
          "output_type": "execute_result"
        }
      ],
      "source": [
        "ints = encoding.encode(text)\n",
        "ints"
      ]
    },
    {
      "cell_type": "code",
      "execution_count": 7,
      "id": "dfd9bfb9",
      "metadata": {
      },
      "outputs": [
        {
          "data": {
            "text/plain": [
              "11"
            ]
          },
          "execution_count": 7,
          "metadata": {
          },
          "output_type": "execute_result"
        }
      ],
      "source": [
        "len(ints)"
      ]
    },
    {
      "cell_type": "code",
      "execution_count": 8,
      "id": "94235a78",
      "metadata": {
      },
      "outputs": [
        {
          "data": {
            "text/plain": [
              "8"
            ]
          },
          "execution_count": 8,
          "metadata": {
          },
          "output_type": "execute_result"
        }
      ],
      "source": [
        "len(text.split())"
      ]
    },
    {
      "cell_type": "code",
      "execution_count": null,
      "id": "9d5d83cd",
      "metadata": {
      },
      "outputs": [

      ],
      "source": [
        "# Rough estimate\n",
        "# 100 tokens ~= 75 words\n",
        "# 1 token ~= 0.75 words\n",
        "# num_tokens * 3/4 ~= num_words\n",
        "# num_tokens ~= num_words * 4/3 (formula to use)\n",
        "\n",
        "# Note: even using tiktoken the number of tokens is still an estimate\n",
        "# since a few extra tokens are added for e.g. \"role\": \"user\", meta tags, etc."
      ]
    },
    {
      "cell_type": "code",
      "execution_count": 9,
      "id": "fdcf1598",
      "metadata": {
      },
      "outputs": [
        {
          "data": {
            "text/plain": [
              "0.7272727272727273"
            ]
          },
          "execution_count": 9,
          "metadata": {
          },
          "output_type": "execute_result"
        }
      ],
      "source": [
        "8 / 11"
      ]
    },
    {
      "cell_type": "code",
      "execution_count": 10,
      "id": "7d355180",
      "metadata": {
      },
      "outputs": [
        {
          "data": {
            "text/plain": [
              "[b'I',\n",
              " b\"'m\",\n",
              " b' taking',\n",
              " b' the',\n",
              " b' Lazy',\n",
              " b' Programmer',\n",
              " b\"'s\",\n",
              " b' latest',\n",
              " b' AI',\n",
              " b' course',\n",
              " b'!']"
            ]
          },
          "execution_count": 10,
          "metadata": {
          },
          "output_type": "execute_result"
        }
      ],
      "source": [
        "tokens = [encoding.decode_single_token_bytes(i) for i in ints]\n",
        "tokens"
      ]
    },
    {
      "cell_type": "code",
      "execution_count": 11,
      "id": "16a5ee4f",
      "metadata": {
      },
      "outputs": [

      ],
      "source": [
        "# API also tells us the actual number of tokens we used after the fact\n",
        "from openai import OpenAI"
      ]
    },
    {
      "cell_type": "code",
      "execution_count": 12,
      "id": "6a14afd9",
      "metadata": {
      },
      "outputs": [

      ],
      "source": [
        "prompt = \"Who is the Lazy Programmer, the online course creator?\""
      ]
    },
    {
      "cell_type": "code",
      "execution_count": 13,
      "id": "a8caf286",
      "metadata": {
      },
      "outputs": [
        {
          "data": {
            "text/plain": [
              "11"
            ]
          },
          "execution_count": 13,
          "metadata": {
          },
          "output_type": "execute_result"
        }
      ],
      "source": [
        "ints = encoding.encode(prompt)\n",
        "len(ints)"
      ]
    },
    {
      "cell_type": "code",
      "execution_count": 32,
      "id": "c3cedeb7",
      "metadata": {
      },
      "outputs": [

      ],
      "source": [
        "client = OpenAI()\n",
        "\n",
        "completion = client.chat.completions.create(\n",
        "  model='gpt-3.5-turbo',\n",
        "  messages=[\n",
        "    {\"role\": \"user\", \"content\": prompt}\n",
        "  ],\n",
        "  temperature=0,\n",
        "  max_tokens=200,\n",
        "  seed=123,\n",
        ")"
      ]
    },
    {
      "cell_type": "code",
      "execution_count": 33,
      "id": "e5d0ca73",
      "metadata": {
      },
      "outputs": [
        {
          "data": {
            "text/plain": [
              "ChatCompletion(id='chatcmpl-8ymRgjzr7NLaYNeiKLIhjgb8Q9rt8', choices=[Choice(finish_reason='stop', index=0, logprobs=None, message=ChatCompletionMessage(content='The Lazy Programmer is a pseudonym used by a data scientist and online course creator named Mike X Cohen. He is known for creating courses on topics such as machine learning, deep learning, and data science.', role='assistant', function_call=None, tool_calls=None))], created=1709496596, model='gpt-3.5-turbo-0125', object='chat.completion', system_fingerprint='fp_2b778c6b35', usage=CompletionUsage(completion_tokens=41, prompt_tokens=18, total_tokens=59))"
            ]
          },
          "execution_count": 33,
          "metadata": {
          },
          "output_type": "execute_result"
        }
      ],
      "source": [
        "completion"
      ]
    },
    {
      "cell_type": "code",
      "execution_count": 19,
      "id": "7bfc025f",
      "metadata": {
      },
      "outputs": [
        {
          "data": {
            "text/plain": [
              "'The Lazy Programmer is a pseudonym used by a data scientist and online course creator named Mike X Cohen. He is known for creating courses on topics such as machine learning, deep learning, and data science.'"
            ]
          },
          "execution_count": 19,
          "metadata": {
          },
          "output_type": "execute_result"
        }
      ],
      "source": [
        "completion.choices[0].message.content"
      ]
    },
    {
      "cell_type": "code",
      "execution_count": 22,
      "id": "baac8a0b",
      "metadata": {
      },
      "outputs": [
        {
          "data": {
            "text/plain": [
              "CompletionUsage(completion_tokens=41, prompt_tokens=18, total_tokens=59)"
            ]
          },
          "execution_count": 22,
          "metadata": {
          },
          "output_type": "execute_result"
        }
      ],
      "source": [
        "completion.usage"
      ]
    },
    {
      "cell_type": "code",
      "execution_count": 23,
      "id": "2366ae90",
      "metadata": {
      },
      "outputs": [
        {
          "data": {
            "text/plain": [
              "41"
            ]
          },
          "execution_count": 23,
          "metadata": {
          },
          "output_type": "execute_result"
        }
      ],
      "source": [
        "ints = encoding.encode(completion.choices[0].message.content)\n",
        "len(ints)"
      ]
    },
    {
      "cell_type": "code",
      "execution_count": null,
      "id": "00647455",
      "metadata": {
      },
      "outputs": [

      ],
      "source": [

      ]
    },
    {
      "cell_type": "code",
      "source": [

      ],
      "metadata": {
        "id": "S0acXBWCxiJL"
      },
      "execution_count": null,
      "outputs": [

      ]
    },
    {
      "cell_type": "code",
      "source": [

      ],
      "metadata": {
        "id": "oaG3igwFxiQU"
      },
      "execution_count": null,
      "outputs": [

      ]
    },
    {
      "cell_type": "code",
      "source": [

      ],
      "metadata": {
        "id": "PzQJleyoxiWi"
      },
      "execution_count": null,
      "outputs": [

      ]
    },
    {
      "cell_type": "markdown",
      "source": [
        "![](https://deeplearningcourses.com/notebooks_v3_pxl?sc=eJQTuAHC1iIuxyNWhKpeiw&n=Tiktoken)"
      ],
      "metadata": {
        "id": "PFJd4PmsxjKb"
      }
    }
  ],
  "metadata": {
    "kernelspec": {
      "display_name": "Python 3 (ipykernel)",
      "language": "python",
      "name": "python3"
    },
    "language_info": {
      "codemirror_mode": {
        "name": "ipython",
        "version": 3
      },
      "file_extension": ".py",
      "mimetype": "text/x-python",
      "name": "python",
      "nbconvert_exporter": "python",
      "pygments_lexer": "ipython3",
      "version": "3.10.12"
    },
    "sc": "eJQTuAHC1iIuxyNWhKpeiw"
  },
  "nbformat": 4,
  "nbformat_minor": 5
}